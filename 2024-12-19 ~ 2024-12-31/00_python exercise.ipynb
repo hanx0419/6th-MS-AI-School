{
 "cells": [
  {
   "cell_type": "code",
   "execution_count": 19,
   "metadata": {},
   "outputs": [
    {
     "name": "stdout",
     "output_type": "stream",
     "text": [
      "합:  14\n",
      "차:  -8\n",
      "곱:  33\n",
      "나눗셈:  0.2727272727272727\n",
      "몫:  0\n",
      "나머지:  3\n"
     ]
    }
   ],
   "source": [
    "# 합, 차, 곱, 나눗셈, 몫, 나머지를 출력해주세요\n",
    "\n",
    "a = 3\n",
    "b = 11\n",
    "\n",
    "print('합: ', a+b)\n",
    "print('차: ', a-b)\n",
    "print('곱: ', a*b)\n",
    "print('나눗셈: ', a/b)\n",
    "print('몫: ', a//b)\n",
    "print('나머지: ', a%b)"
   ]
  },
  {
   "cell_type": "code",
   "execution_count": null,
   "metadata": {},
   "outputs": [
    {
     "name": "stdout",
     "output_type": "stream",
     "text": [
      "7 5 6 8\n"
     ]
    }
   ],
   "source": [
    "# 각자리의 숫자를 추출해서 출력\n",
    "\n",
    "n = 7568\n",
    "\n",
    "d1000 = n//1000\n",
    "d100 = (n//100)%10\n",
    "d10 = (n//10)%10\n",
    "d1 = n %10\n",
    "\n",
    "print(d1000, d100, d10, d1)"
   ]
  },
  {
   "cell_type": "code",
   "execution_count": null,
   "metadata": {},
   "outputs": [
    {
     "name": "stdout",
     "output_type": "stream",
     "text": [
      "12345600\n"
     ]
    }
   ],
   "source": [
    "# 100미만 절사 처리\n",
    "\n",
    "pay = 12345678\n",
    "\n",
    "r = pay//100 * 100\n",
    "\n",
    "print(r)"
   ]
  },
  {
   "cell_type": "code",
   "execution_count": null,
   "metadata": {},
   "outputs": [
    {
     "name": "stdout",
     "output_type": "stream",
     "text": [
      "4\n"
     ]
    }
   ],
   "source": [
    "'''\n",
    "변수 a에 저장된 값의 b자리 값을 계산하여 변수 c에 저장하는 코드를 설계\n",
    "예를 들어 a에 1234가 저장되어 있고 b가 1일 경우 첫 번째 자리값인 4가 c에 저장\n",
    "a가 1234일때 b가 4일 경우는 4번째 자리값인 1이 c에 저장\n",
    "'''\n",
    "a = 1234\n",
    "b = 1\n",
    "# b = 4\n",
    "c = a//10**(b-1)%10\n",
    "\n",
    "print(c)"
   ]
  },
  {
   "cell_type": "code",
   "execution_count": 7,
   "metadata": {},
   "outputs": [
    {
     "data": {
      "text/plain": [
       "'Lesosr'"
      ]
     },
     "execution_count": 7,
     "metadata": {},
     "output_type": "execute_result"
    }
   ],
   "source": [
    "smaplestring = \"Life is too short\"\n",
    "smaplestring[::3]\n",
    "# [start:end:step]\n",
    "# step 은 몇개씩 건너뛸지를 의미"
   ]
  },
  {
   "cell_type": "code",
   "execution_count": null,
   "metadata": {},
   "outputs": [
    {
     "name": "stdout",
     "output_type": "stream",
     "text": [
      "1 + 7894 = 7895\n"
     ]
    }
   ],
   "source": [
    "# 사용자로부터 두개의 정수를 입력 받아서 두 정수 사이의 모든 정수의 합을 구하는 코드를 작성\n",
    "\n",
    "num1 = int(input('정수1: '))\n",
    "num2 = int(input('정수2: '))\n",
    "\n",
    "print(num1, '+', num2, '=', num1+num2)"
   ]
  },
  {
   "cell_type": "code",
   "execution_count": null,
   "metadata": {},
   "outputs": [
    {
     "name": "stdout",
     "output_type": "stream",
     "text": [
      "삼각형의 넓이: 142.5\n"
     ]
    }
   ],
   "source": [
    "# 삼각형의 넓이 구하기\n",
    "# 사용자에게 삼각형의 밑변과 높이를 입력 받아서 삼각형의 넓이를 구하는 코드를 작성\n",
    "\n",
    "w = float(input('밑변: '))\n",
    "h = float(input('높이: '))\n",
    "result = (w*h)/2\n",
    "\n",
    "print('삼각형의 넓이:',result)"
   ]
  },
  {
   "cell_type": "code",
   "execution_count": 10,
   "metadata": {},
   "outputs": [
    {
     "name": "stdout",
     "output_type": "stream",
     "text": [
      "총 금액: 15500\n"
     ]
    }
   ],
   "source": [
    "# 분식 주문 코드\n",
    "# 메뉴판은 아래와 같다.\n",
    "# 메뉴별 주문 개수를 입력 받아 지불할 금액을 자동으로 계산해주는 코드를 작성\n",
    "\n",
    "# [메뉴판]\n",
    "# 김  밥 : 3,000원\n",
    "# 떡볶이 : 3,500원\n",
    "# 라  면 : 2,500원\n",
    "\n",
    "gimbap = 3000\n",
    "tteokbokki = 3500\n",
    "ramen = 2500\n",
    "\n",
    "gimbap_num = int(input('김밥 주문 개수: '))\n",
    "tteokbokki_num = int(input('떡볶이 주문 개수: '))\n",
    "ramen_num = int(input('라면 주문 개수: '))\n",
    "\n",
    "total = gimbap*gimbap_num + tteokbokki*tteokbokki_num + ramen*ramen_num\n",
    "\n",
    "print('총 금액:', total)"
   ]
  },
  {
   "cell_type": "code",
   "execution_count": 11,
   "metadata": {},
   "outputs": [
    {
     "name": "stdout",
     "output_type": "stream",
     "text": [
      "학점: F\n"
     ]
    }
   ],
   "source": [
    "# 성적 처리 코드\n",
    "# 점수가 90점 이상이면 'A'학점\n",
    "# 점수가 80점 이상이면 'B'학점\n",
    "# 점수가 70점 이상이면 'C'학점\n",
    "# 점수가 60점 이상이면 'D'학점\n",
    "# 점수가 60점 미만이면 'F'학점\n",
    "# 사용자로부터 점수를 입력 받아 학점을 출력하는 코드를 작성\n",
    "\n",
    "score = int(input('점수: '))\n",
    "grade = ''\n",
    "\n",
    "if score >= 90:\n",
    "    grade = 'A'\n",
    "elif score >= 80:\n",
    "    grade = 'B'\n",
    "elif score >= 70:\n",
    "    grade = 'C'\n",
    "elif score >= 60:\n",
    "    grade = 'D'\n",
    "else:\n",
    "    grade = 'F'\n",
    "\n",
    "print('학점:', grade)"
   ]
  },
  {
   "cell_type": "code",
   "execution_count": 12,
   "metadata": {},
   "outputs": [
    {
     "name": "stdout",
     "output_type": "stream",
     "text": [
      "마스크 구매 가능 요일: 목요일\n"
     ]
    }
   ],
   "source": [
    "# 출생 연도 끝자리와 나이를 입력하여 마스크 구매 가능한 요일을 출력하는 코드를 작성\n",
    "# 출생 연도 끝자리 1,6 : 월요일\n",
    "# 출생 연도 끝자리 2,7 : 화요일 \n",
    "# 출생 연도 끝자리 3,8 : 수요일\n",
    "# 출생 연도 끝자리 4,9 : 목요일\n",
    "# 출생 연도 끝자리 5,0 : 금요일\n",
    "# 단, 65세 이상 어르신은 언제든지 구매 가능\n",
    "\n",
    "year = int(input('출생 연도 끝자리: '))\n",
    "age = int(input('나이: '))\n",
    "day = ''\n",
    "\n",
    "if age >= 65:\n",
    "    day = '매일'\n",
    "elif year == 1 or year == 6:\n",
    "    day = '월요일'\n",
    "elif year == 2 or year == 7:\n",
    "    day = '화요일'\n",
    "elif year == 3 or year == 8:\n",
    "    day = '수요일'\n",
    "elif year == 4 or year == 9:\n",
    "    day = '목요일'\n",
    "elif year == 5 or year == 0:\n",
    "    day = '금요일'\n",
    "\n",
    "print('마스크 구매 가능 요일:', day)"
   ]
  },
  {
   "cell_type": "code",
   "execution_count": 13,
   "metadata": {},
   "outputs": [
    {
     "name": "stdout",
     "output_type": "stream",
     "text": [
      "운행 가능 여부: 홀수날\n"
     ]
    }
   ],
   "source": [
    "# 차량 2부제(홀짝제) 실시로 차량번호가 홀수이면 홀수날, 짝수이면 짝수날 운행 가능\n",
    "# 날짜와 차량번호를 입력하여 운행 가능 여부를 출력하는 코드를 작성\n",
    "# 일(day) : 1~31 이외의 값이 입력되면 오류메세지 출력하고 종료\n",
    "# 차량번호 : 4자리가 입력되지 않으면 오류메세지 출력하고 종료\n",
    "# len() 함수를 사용하여 입력된 문자열의 길이를 확인\n",
    "\n",
    "day = int(input('날짜: '))\n",
    "car_num = input('차량번호: ')\n",
    "result = ''\n",
    "\n",
    "if day < 1 or day > 31:\n",
    "    print('날짜 입력 오류')\n",
    "    exit()\n",
    "\n",
    "if len(car_num) != 4:\n",
    "    print('차량번호 입력 오류')\n",
    "    exit()\n",
    "\n",
    "if int(car_num[-1])%2 == 0:\n",
    "    result = '짝수날'\n",
    "else:\n",
    "    result = '홀수날'\n",
    "\n",
    "print('운행 가능 여부:', result)"
   ]
  },
  {
   "cell_type": "code",
   "execution_count": 18,
   "metadata": {},
   "outputs": [
    {
     "name": "stdout",
     "output_type": "stream",
     "text": [
      "BMI: 22.89, 비만유무: 정상\n"
     ]
    }
   ],
   "source": [
    "# 키와 몸무게 입력받아, BMI 지수를 계산하고 비만유무를 출력하는 코드를 작성\n",
    "# BMI = 몸무게(kg) / (신장(m) * 신장(m))\n",
    "# BMI 지수에 따른 비만유무\n",
    "# 25 이상이면 비만, 23 ~ 25 미만이면 과체중, 18.5 ~ 23 미만이면 정상, 18.5 미만이면 저체중\n",
    "\n",
    "height = float(input('키: '))\n",
    "weight = float(input('몸무게: '))\n",
    "bmi = weight / (height/100)**2\n",
    "result = ''\n",
    "\n",
    "if bmi >= 25:\n",
    "    result = '비만'\n",
    "elif bmi >= 23:\n",
    "    result = '과체중'\n",
    "elif bmi >= 18.5:\n",
    "    result = '정상'\n",
    "else:\n",
    "    result = '저체중'\n",
    "\n",
    "print(f'BMI: {bmi:.2f}, 비만유무: {result}')\n"
   ]
  }
 ],
 "metadata": {
  "kernelspec": {
   "display_name": "Python 3",
   "language": "python",
   "name": "python3"
  },
  "language_info": {
   "codemirror_mode": {
    "name": "ipython",
    "version": 3
   },
   "file_extension": ".py",
   "mimetype": "text/x-python",
   "name": "python",
   "nbconvert_exporter": "python",
   "pygments_lexer": "ipython3",
   "version": "3.13.2"
  }
 },
 "nbformat": 4,
 "nbformat_minor": 2
}
