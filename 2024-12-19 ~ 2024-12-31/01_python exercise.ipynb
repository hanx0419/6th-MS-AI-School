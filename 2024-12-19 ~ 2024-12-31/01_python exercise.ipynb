{
 "cells": [
  {
   "cell_type": "code",
   "execution_count": 1,
   "metadata": {},
   "outputs": [
    {
     "name": "stdout",
     "output_type": "stream",
     "text": [
      "1부터 5000까지의 합은 12502500입니다.\n"
     ]
    }
   ],
   "source": [
    "# 사용자로부터 정수값을 입력받아 1부터 입력받은 정수값까지의 합을 구하는 코드 작성\n",
    "\n",
    "num = int(input(\"정수값을 입력하세요: \"))\n",
    "sum = 0\n",
    "\n",
    "for i in range(1, num+1):\n",
    "    sum += i\n",
    "\n",
    "print(\"1부터 {}까지의 합은 {}입니다.\".format(num, sum))"
   ]
  },
  {
   "cell_type": "code",
   "execution_count": 2,
   "metadata": {},
   "outputs": [
    {
     "name": "stdout",
     "output_type": "stream",
     "text": [
      "16 * 1 = 16\n",
      "16 * 2 = 32\n",
      "16 * 3 = 48\n",
      "16 * 4 = 64\n",
      "16 * 5 = 80\n",
      "16 * 6 = 96\n",
      "16 * 7 = 112\n",
      "16 * 8 = 128\n",
      "16 * 9 = 144\n"
     ]
    }
   ],
   "source": [
    "# 사용자로부터 입력받은 숫자에 해당하는 구구단을 출력\n",
    "\n",
    "num = int(input(\"정수값을 입력하세요: \"))\n",
    "for i in range(1, 10):\n",
    "    print(\"{} * {} = {}\".format(num, i, num*i))"
   ]
  },
  {
   "cell_type": "code",
   "execution_count": 4,
   "metadata": {},
   "outputs": [
    {
     "name": "stdout",
     "output_type": "stream",
     "text": [
      "1 2 4 7 8 11 13 14 16 17 19 "
     ]
    }
   ],
   "source": [
    "# 20보다 작은 정수 중에서 3의 배수와 5배수를 제외하고 출력\n",
    "\n",
    "for i in range(1, 20):\n",
    "    if i % 3 == 0 or i % 5 == 0:\n",
    "        continue\n",
    "    print(i, end=' ')"
   ]
  },
  {
   "cell_type": "code",
   "execution_count": 5,
   "metadata": {},
   "outputs": [
    {
     "name": "stdout",
     "output_type": "stream",
     "text": [
      "1 2 짝 4 5 짝 7 8 짝 10 11 12 짝 14 15 짝 17 18 짝 20 21 22 짝 24 25 짝 27 28 짝 30 31 32 짝 34 35 짝 37 38 짝 40 41 42 짝 44 45 짝 47 48 짝 50 "
     ]
    }
   ],
   "source": [
    "# 3,6, 9로 끝나는 숫제에 '짝'을 출력하는 369게임 코드로 작성\n",
    "# 사용자로부터 얼마까지 진행하는지 입력받아 진행\n",
    "\n",
    "num = int(input(\"몇까지 진행할까요? \"))\n",
    "for i in range(1, num+1):\n",
    "    if i % 10 == 3 or i % 10 == 6 or i % 10 == 9:\n",
    "        print(\"짝\", end=' ')\n",
    "    else:\n",
    "        print(i, end=' ')"
   ]
  },
  {
   "cell_type": "code",
   "execution_count": 6,
   "metadata": {},
   "outputs": [
    {
     "name": "stdout",
     "output_type": "stream",
     "text": [
      "로그인 성공\n"
     ]
    }
   ],
   "source": [
    "# 사용자로부터 암호를 입력받아 'python'이면 '로그인 성공'을 출력하고 아니면 '로그인 실패'를 출력하는 코드 작성\n",
    "\n",
    "password = input(\"암호를 입력하세요: \")\n",
    "if password == 'python':\n",
    "    print(\"로그인 성공\")\n",
    "else:\n",
    "    print(\"로그인 실패\")"
   ]
  },
  {
   "cell_type": "code",
   "execution_count": 7,
   "metadata": {},
   "outputs": [
    {
     "name": "stdout",
     "output_type": "stream",
     "text": [
      "         *\n",
      "        ***\n",
      "       *****\n",
      "      *******\n",
      "     *********\n",
      "    ***********\n",
      "   *************\n",
      "  ***************\n",
      " *****************\n",
      "*******************\n",
      " *****************\n",
      "  ***************\n",
      "   *************\n",
      "    ***********\n",
      "     *********\n",
      "      *******\n",
      "       *****\n",
      "        ***\n",
      "         *\n"
     ]
    }
   ],
   "source": [
    "n = 10\n",
    "\n",
    "for i in range(n):\n",
    "    print(' ' * ((n-1) - i), end='')\n",
    "    print('*' * (2 * i + 1))\n",
    "\n",
    "for i in range(n-2, -1, -1):\n",
    "    print(' ' * ((n-1) - i), end='')\n",
    "    print('*' * (2 * i + 1))"
   ]
  },
  {
   "cell_type": "code",
   "execution_count": 9,
   "metadata": {},
   "outputs": [
    {
     "name": "stdout",
     "output_type": "stream",
     "text": [
      "******************************\n",
      "Rest API 정복\n",
      "******************************\n",
      "프로그램을 종료합니다.\n"
     ]
    }
   ],
   "source": [
    "# \"오늘의 할일\"을 관리하는 소스 코드 작성\n",
    "'''예시\n",
    "메뉴선택(1. 할일 추가, 2. 한일 삭제, 0. 종료)? :\n",
    "1.밥먹기\n",
    "******************************\n",
    "메뉴선택(1. 할일 추가, 2. 한일 삭제, 0. 종료)? :\n",
    "1.밥먹기\n",
    "2.공부하기\n",
    "******************************\n",
    "메뉴선택(1. 할일 추가, 2. 한일 삭제, 0. 종료)? :\n",
    "1.공부하기\n",
    "******************************\n",
    "메뉴선택(1. 할일 추가, 2. 한일 삭제, 0. 종료)? :\n",
    "프로그램을 종료합니다.\n",
    "'''\n",
    "\n",
    "todo = []\n",
    "while True:\n",
    "    menu = int(input(\"메뉴선택(1. 할일 추가, 2. 할일 삭제, 0. 종료)? : \"))\n",
    "    if menu == 1:\n",
    "        todo.append(input(\"추가할 할일을 입력하세요: \"))\n",
    "        print(\"*\" * 30)\n",
    "        for i in todo:\n",
    "            print(i)\n",
    "        print(\"*\" * 30)\n",
    "    elif menu == 2:\n",
    "        del_todo = input(\"삭제할 할일을 입력하세요: \")\n",
    "        if del_todo in todo:\n",
    "            todo.remove(del_todo)\n",
    "        else:\n",
    "            print(\"삭제할 할일이 없습니다.\")\n",
    "        print(\"*\" * 30)\n",
    "        for i in todo:\n",
    "            print(i)\n",
    "        print(\"*\" * 30)\n",
    "    elif menu == 0:\n",
    "        print(\"프로그램을 종료합니다.\")\n",
    "        break\n",
    "    else:\n",
    "        print(\"잘못된 입력입니다.\")\n",
    "        continue"
   ]
  },
  {
   "cell_type": "code",
   "execution_count": 10,
   "metadata": {},
   "outputs": [
    {
     "name": "stdout",
     "output_type": "stream",
     "text": [
      "내 친구들 ['최재원', '유재석', '김연수', '김우정', '김가현', '김혜현']\n",
      "010-2222-1234\n",
      "프로그램을 종료합니다.\n"
     ]
    }
   ],
   "source": [
    "# 앞서 작성한 \"친구 핸드폰번호 검색 소스 코드\"을 다음과 같이 만드세요.\n",
    "'''\n",
    "메뉴선택(1. 추가, 2. 검색, 0. 종료)? : 2\n",
    "내 친구들 ['박지민', '전정국', '정호석', '김석진', '김남준']\n",
    "그런 이름 없음\n",
    "메뉴선택(1. 추가, 2. 검색, 0. 종료)? : 2\n",
    "내 친구들 ['박지민', '전정국', '정호석', '김석진', '김남준']\n",
    "010-1111-1111\n",
    "메뉴선택(1. 추가, 2. 검색, 0. 종료)? : 0\n",
    "프로그램을 종료합니다.\n",
    "'''\n",
    "\n",
    "friend = {'최재원':'010-1111-1234', '유재석':'010-2222-1234',\n",
    "          '김연수':'010-3333-1234', '김우정':'010-4444-1234',\n",
    "          '김가현':'010-5555-1234', '김혜현':'010-6666-1234'}\n",
    "while True:\n",
    "    menu = int(input(\"메뉴선택(1. 추가, 2. 검색, 0. 종료)? : \"))\n",
    "    if menu == 1:\n",
    "        name = input(\"이름을 입력하세요: \")\n",
    "        phone = input(\"전화번호를 입력하세요: \")\n",
    "        friend[name] = phone\n",
    "    elif menu == 2:\n",
    "        print(\"내 친구들\", list(friend.keys()))\n",
    "        name = input(\"검색할 이름을 입력하세요: \")\n",
    "        if name in friend:\n",
    "            print(friend[name])\n",
    "        else:\n",
    "            print(\"그런 이름 없음\")\n",
    "    elif menu == 0:\n",
    "        print(\"프로그램을 종료합니다.\")\n",
    "        break\n",
    "    else:\n",
    "        print(\"잘못된 입력입니다.\")\n",
    "        continue"
   ]
  }
 ],
 "metadata": {
  "kernelspec": {
   "display_name": "Python 3",
   "language": "python",
   "name": "python3"
  },
  "language_info": {
   "codemirror_mode": {
    "name": "ipython",
    "version": 3
   },
   "file_extension": ".py",
   "mimetype": "text/x-python",
   "name": "python",
   "nbconvert_exporter": "python",
   "pygments_lexer": "ipython3",
   "version": "3.13.2"
  }
 },
 "nbformat": 4,
 "nbformat_minor": 2
}
