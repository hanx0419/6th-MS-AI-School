{
 "cells": [
  {
   "cell_type": "code",
   "execution_count": 1,
   "metadata": {},
   "outputs": [
    {
     "name": "stdout",
     "output_type": "stream",
     "text": [
      "정답입니다.\n"
     ]
    }
   ],
   "source": [
    "# 사용자로 입력받은 단어가 아래의 fruit 리스트에 포함되어 있는지 확인하라. 포함되었다면 \"정답입니다.\" 없다면 \"오답입니다.\" 라고 출력하라.\n",
    "\n",
    "fruit = ['apple', 'mango', 'banana', 'cherry']\n",
    "\n",
    "word = input(\"과일 이름을 입력하세요: \")\n",
    "\n",
    "if word in fruit:\n",
    "    print(\"정답입니다.\")\n",
    "else:\n",
    "    print(\"오답입니다.\")"
   ]
  },
  {
   "cell_type": "code",
   "execution_count": 6,
   "metadata": {},
   "outputs": [
    {
     "name": "stdout",
     "output_type": "stream",
     "text": [
      "Alice의 평균 성적은 89.0입니다.\n",
      "Bob의 평균 성적은 82.0입니다.\n",
      "Charlie의 평균 성적은 92.0입니다.\n",
      "\n",
      "전체 학생들의 평균 성적은 87.66666666666667입니다.\n",
      "\n",
      "평균 성적 90점 이상인 학생은 Charlie입니다.\n",
      "\n",
      "성적 중 90점 이상인 학생은 Alice, Charlie입니다.\n"
     ]
    }
   ],
   "source": [
    "# 세명의 학생과 각 학생의 성적을 리스트와 딕셔너리로 표현\n",
    "# 각 학생의 평균 성적을 계산하여 출력\n",
    "# 전체 학생들의 평균 성적을 출력\n",
    "# 또한, 성적이 90 이상인 학생들을 찾아서 출력\n",
    "\n",
    "students = [\n",
    "    {'name': 'Alice', 'grades': [90, 85, 92]},\n",
    "    {'name': 'Bob', 'grades': [78, 80, 88]},\n",
    "    {'name': 'Charlie', 'grades': [95, 92, 89]}\n",
    "]\n",
    "\n",
    "for student in students:\n",
    "    name = student['name']\n",
    "    grades = student['grades']\n",
    "    average = sum(grades) / len(grades)\n",
    "    print(f\"{name}의 평균 성적은 {average}입니다.\")\n",
    "\n",
    "total_average = 0\n",
    "for student in students:\n",
    "    total_average += sum(student['grades']) / len(student['grades'])\n",
    "total_average /= len(students)\n",
    "print(f\"\\n전체 학생들의 평균 성적은 {total_average}입니다.\")\n",
    "\n",
    "high_achievers = [student['name'] for student in students if sum(student['grades']) / len(student['grades']) >= 90]\n",
    "print(f\"\\n평균 성적 90점 이상인 학생은 {', '.join(high_achievers)}입니다.\")\n",
    "\n",
    "# 성적이 한개라도 90점인 학생이 있는지 확인\n",
    "\n",
    "high_achievers = [student['name'] for student in students if any(grade >= 90 for grade in student['grades'])]\n",
    "print(f\"\\n성적 중 90점 이상인 학생은 {', '.join(high_achievers)}입니다.\")\n",
    "\n"
   ]
  },
  {
   "cell_type": "code",
   "execution_count": 7,
   "metadata": {},
   "outputs": [
    {
     "name": "stdout",
     "output_type": "stream",
     "text": [
      "False\n",
      "False\n",
      "True\n",
      "False\n"
     ]
    }
   ],
   "source": [
    "# 운년을 확인하는 함수 만들기\n",
    "# 4로 나누어 떨어지는 해는 윤년이다.\n",
    "# 100으로 나누어 떨어지는 해는 윤년이 아니다.\n",
    "# 400으로 나누어 떨어지는 해는 윤년이다.\n",
    "\n",
    "def is_leap(year):\n",
    "    return year % 4 == 0 and (year % 100 != 0 or year % 400 == 0)\n",
    "\n",
    "print(is_leap(2022))\n",
    "print(is_leap(2010))\n",
    "print(is_leap(2000))\n",
    "print(is_leap(1900))"
   ]
  },
  {
   "cell_type": "code",
   "execution_count": 8,
   "metadata": {},
   "outputs": [
    {
     "name": "stdout",
     "output_type": "stream",
     "text": [
      "3\n",
      "6\n",
      "55\n"
     ]
    }
   ],
   "source": [
    "# 여러 개의 입력값을 받는 함수 만들기\n",
    "# 여러 개의 입력값을 모두 더하는 함수\n",
    "# add_many(1, 2) -> 3\n",
    "# add_many(1, 2, 3) -> 6\n",
    "# add_many(1, 2, 3, 4, 5, 6, 7, 8, 9, 10) -> 55\n",
    "\n",
    "def add_many(*args):\n",
    "    return sum(args)\n",
    "\n",
    "print(add_many(1, 2))\n",
    "print(add_many(1, 2, 3))\n",
    "print(add_many(1, 2, 3, 4, 5, 6, 7, 8, 9, 10))"
   ]
  },
  {
   "cell_type": "code",
   "execution_count": 1,
   "metadata": {},
   "outputs": [
    {
     "name": "stdout",
     "output_type": "stream",
     "text": [
      "3\n",
      "1\n",
      "3\n"
     ]
    }
   ],
   "source": [
    "class Calculator:\n",
    "    def __init__(self):\n",
    "        self.result = 0\n",
    "\n",
    "    def add(self, num):\n",
    "        self.result += num\n",
    "        return self.result\n",
    "\n",
    "    def sub(self, num):\n",
    "        self.result -= num\n",
    "        return self.result\n",
    "    \n",
    "    def mul(self, num):\n",
    "        self.result *= num\n",
    "        return self.result\n",
    "    \n",
    "    def div(self, num):\n",
    "        self.result /= num\n",
    "        return self.result\n",
    "    \n",
    "    def reset(self):\n",
    "        self.result = 0\n",
    "        return self.result\n",
    "    \n",
    "cal = Calculator()\n",
    "print(cal.add(3))\n",
    "print(cal.sub(2))\n",
    "print(cal.mul(3))\n"
   ]
  }
 ],
 "metadata": {
  "kernelspec": {
   "display_name": "Python 3",
   "language": "python",
   "name": "python3"
  },
  "language_info": {
   "codemirror_mode": {
    "name": "ipython",
    "version": 3
   },
   "file_extension": ".py",
   "mimetype": "text/x-python",
   "name": "python",
   "nbconvert_exporter": "python",
   "pygments_lexer": "ipython3",
   "version": "3.13.2"
  }
 },
 "nbformat": 4,
 "nbformat_minor": 2
}
